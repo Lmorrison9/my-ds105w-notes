{
 "cells": [
  {
   "cell_type": "markdown",
   "metadata": {},
   "source": [
    "# 💻 Week 01 Lab – Python Basics: First Steps with Weather Data\n",
    "\n",
    "**LSE DS105W – Data for Data Science (2024/25)**\n",
    "\n",
    "<div style=\"font-family: system-ui; padding: 20px 30px 20px 20px; background-color: #FFFFFF; border-left: 8px solid #47315E; border-radius: 8px; box-shadow: 0 4px 12px rgba(0, 0, 0, 0.1);max-width:600px\">\n",
    "\n",
    "**Today's Lab Session**\n",
    "- 📅 Friday, 24 January 2025\n",
    "- ⏰ Check your class group time in [Course Info](/2024/winter-term/course-info.qmd)\n",
    "- 📍 KSW.2.10\n",
    "\n",
    "🥅 **Learning Goals**\n",
    "1. Create and use Python variables to store data\n",
    "2. Work with lists to handle multiple values\n",
    "3. Write basic control flow statements\n",
    "4. Print formatted strings\n",
    "\n",
    "**Prerequisites**  \n",
    "✅ Complete the DataQuest lessons from the 📝 [W01 Formative Exercise](https://moodle.lse.ac.uk/mod/page/view.php?id=1560136)  \n",
    "✅ Join our Slack workspace\n",
    "✅ Set up your Nuvolos account\n",
    "</div>"
   ]
  },
  {
   "cell_type": "markdown",
   "metadata": {},
   "source": [
    "**Author:** \\[ADD YOUR NAME HERE \\]\n",
    "\n",
    "**Candidate Number:** \\[ADD YOUR 5-DIGIT CANDIDATE NUMBER HERE \\]"
   ]
  },
  {
   "cell_type": "markdown",
   "metadata": {
    "vscode": {
     "languageId": "plaintext"
    }
   },
   "source": [
    "## 📝 Welcome to Jupyter Notebooks!\n",
    "\n",
    "This document is a **Jupyter Notebook**. It combines:\n",
    "- Markdown cells (like this one) for formatted text. _Learn how to format text [here](https://www.markdownguide.org/basic-syntax/)_.\n",
    "- Code cells where you can write and run Python code\n",
    "\n",
    "When you double-click a cell, you can edit its content and you can see what type of cell it is by checking the bottom-right corner.\n",
    "\n",
    "Look for the ▶️ button at the top - you'll use it to run code cells."
   ]
  },
  {
   "cell_type": "markdown",
   "metadata": {},
   "source": [
    "## Part I: Manual Data Collection\n",
    "\n",
    "Before we learn how to collect data automatically (next week), let's start with manual data entry.\n",
    "\n",
    "\n",
    "### 1.1 Warm Up: Python Variables and the Print Function\n",
    "\n",
    "<div style=\"display:block;padding-left:1em;padding-top:0.5em;padding-bottom:0.5em;font-weight:400;font-size:0.85em;background-color: #FFFFFF; border-left: 8px solid #47315E; border-radius: 8px; box-shadow: 0 4px 12px rgba(0, 0, 0, 0.1);max-width:650px\"> \n",
    "\n",
    "🎯 **ACTION POINTS:**\n",
    "\n",
    "1. Check the current temperature in London on your phone's weather app\n",
    "2. Look at the code cell below\n",
    "3. Replace the 0 with today's temperature\n",
    "4. Press ▶️ (or Shift+Enter) to run the cell\n",
    "\n",
    "</div>\n",
    "\n",
    "\n"
   ]
  },
  {
   "cell_type": "code",
   "execution_count": null,
   "metadata": {},
   "outputs": [],
   "source": [
    "# Store London's current temperature (in Celsius)\n",
    "london_current_temp = 0  # Replace this 0 with the actual temperature\n",
    "\n",
    "# Print the temperature\n",
    "print(f\"The current temperature in London is {london_current_temp}°C\")"
   ]
  },
  {
   "cell_type": "markdown",
   "metadata": {},
   "source": [
    "### 1.2 Controlling the Flow (`if`-`else` Statements)\n",
    "\n",
    "Now let's write code to decide if this temperature is __too__ cold for your liking.\n",
    "\n",
    "<div style=\"display:block;padding-left:1em;padding-top:0.5em;padding-bottom:0.5em;font-weight:400;font-size:0.85em;background-color: #FFFFFF; border-left: 8px solid #47315E; border-radius: 8px; box-shadow: 0 4px 12px rgba(0, 0, 0, 0.1);max-width:650px\"> \n",
    "\n",
    "🎯 **ACTION POINTS:**\n",
    "\n",
    "1. Create a variable `cold_threshold` with your personal \"too cold\" temperature\n",
    "2. Write an if/else statement to check if `london_current_temp` is below your threshold\n",
    "3. Print an appropriate message\n",
    "\n",
    "</div>\n"
   ]
  },
  {
   "cell_type": "code",
   "execution_count": null,
   "metadata": {},
   "outputs": [],
   "source": [
    "# Your code here"
   ]
  },
  {
   "cell_type": "markdown",
   "metadata": {},
   "source": [
    "## Part II: Collecting the Week's Forecast\n",
    "\n",
    "Let's keep track of the weather for the next 7 days. We'll start by using lists to store the daily maximum temperatures.\n",
    "\n",
    "### 2.1. Daily Max Temperatures\n",
    "\n",
    "<div style=\"display:block;padding-left:1em;padding-top:0.5em;padding-bottom:0.5em;font-weight:400;font-size:0.85em;background-color: #FFFFFF; border-left: 8px solid #47315E; border-radius: 8px; box-shadow: 0 4px 12px rgba(0, 0, 0, 0.1);max-width:650px\"> \n",
    "\n",
    "🎯 **ACTION POINTS:**\n",
    "\n",
    "1. Create a list `london_forecast_max` with the daily max temperatures for the next 7 days (today included).\n",
    "2. Right below it, write code to print today and tomorrow's temperatures. You **must** get these values from your list in this code and the output should look like this:\n",
    "\n",
    "    ```output\n",
    "    FORECAST\n",
    "    =============================\n",
    "    \n",
    "    Today's max temperature: 12°C\n",
    "    Tomorrow's max temperature: 14°C\n",
    "    ```\n",
    "</div>"
   ]
  },
  {
   "cell_type": "code",
   "execution_count": null,
   "metadata": {},
   "outputs": [],
   "source": [
    "# All of your code goes in this block"
   ]
  },
  {
   "cell_type": "markdown",
   "metadata": {},
   "source": [
    "### 3.2. Daily Min Temperatures\n",
    "\n",
    "<div style=\"display:block;padding-left:1em;padding-top:0.5em;padding-bottom:0.5em;font-weight:400;font-size:0.85em;background-color: #FFFFFF; border-left: 8px solid #47315E; border-radius: 8px; box-shadow: 0 4px 12px rgba(0, 0, 0, 0.1);max-width:650px\"> \n",
    "\n",
    "🎯 **ACTION POINTS:**\n",
    "\n",
    "Do the exact same thing you did for the max temperatures, but now for the min temperatures. Save them in a list called `london_forecast_min`.\n",
    "</div>"
   ]
  },
  {
   "cell_type": "code",
   "execution_count": null,
   "metadata": {},
   "outputs": [],
   "source": [
    "# Your code goes here"
   ]
  },
  {
   "cell_type": "markdown",
   "metadata": {},
   "source": [
    "### 3.3. Daily Conditions\n",
    "\n",
    "<div style=\"display:block;padding-left:1em;padding-top:0.5em;padding-bottom:0.5em;font-weight:400;font-size:0.85em;background-color: #FFFFFF; border-left: 8px solid #47315E; border-radius: 8px; box-shadow: 0 4px 12px rgba(0, 0, 0, 0.1);max-width:650px\"> \n",
    "\n",
    "🎯 **ACTION POINTS:**\n",
    "\n",
    "Just like you gathered information about temperatures, now create a list `london_forecast_conditions` with the weather conditions for the next 7 days. \n",
    "\n",
    "Print today and tomorrow's conditions. Use emojis to represent weather symbols: \n",
    "\n",
    "- ☀️ (sunny)\n",
    "- 🌧️ (rainy)\n",
    "- ⛅ (partly cloudy)\n",
    "- ☁️ (cloudy)\n",
    "\n",
    "\n",
    "</div>"
   ]
  },
  {
   "cell_type": "code",
   "execution_count": null,
   "metadata": {},
   "outputs": [],
   "source": [
    "# Your code goes here"
   ]
  },
  {
   "cell_type": "markdown",
   "metadata": {},
   "source": [
    "## Part III. Summarising the Week's Forecast\n",
    "\n",
    "Now, we want to print a summary of the week's forecast, putting together the max and min temperatures for each day.\n",
    "\n",
    "### 3.1. Day-by-Day Summary\n",
    "\n",
    "<div style=\"display:block;padding-left:1em;padding-top:0.5em;padding-bottom:0.5em;font-weight:400;font-size:0.85em;background-color: #FFFFFF; border-left: 8px solid #47315E; border-radius: 8px; box-shadow: 0 4px 12px rgba(0, 0, 0, 0.1);max-width:650px\"> \n",
    "\n",
    "🎯 **ACTION POINTS:**\n",
    "\n",
    "Write the necessary Python code to print the day of the week and the min and max temperatures, and you are to add a `*` whenever the max temperature is below your `cold_threshold`.\n",
    "\n",
    "For example, if `cold_threshold` was set to `15`, then the output of your code should look like this:\n",
    "\n",
    "```output\n",
    "FORECAST\n",
    "=============================\n",
    "\n",
    "Fri, 24 Jan 2025 - ☁️ Min: 6°C, Max: 14°C *\n",
    "Sat, 25 Jan 2025 - ☁️ Min: 5°C, Max: 15°C\n",
    "...\n",
    "```\n",
    "\n",
    "</div>\n",
    "\n",
    "<span style=\"display:block;padding-left:1em;padding-top:0.5em;padding-bottom:0.5em;font-weight:400;font-size:0.85em;background-color: #FFFFFF; border-left: 8px solid #6BB8B7; border-radius: 8px; box-shadow: 0 4px 12px rgba(0, 0, 0, 0.1);margin-top:1em;max-width:650px;\">\n",
    "\n",
    "🚀 **PRO TIP:** Feel free to use `for` loops if you are already familiar with this programming concept. Otherwise, stick to multiple `print()` statements. \n",
    "\n",
    "</span>"
   ]
  },
  {
   "cell_type": "code",
   "execution_count": null,
   "metadata": {},
   "outputs": [],
   "source": []
  },
  {
   "cell_type": "markdown",
   "metadata": {},
   "source": [
    "### 3.2: Weekly Summary\n",
    "\n",
    "\n",
    "<div style=\"display:block;padding-left:1em;padding-top:0.5em;padding-bottom:0.5em;font-weight:400;font-size:0.85em;background-color: #FFFFFF; border-left: 8px solid #47315E; border-radius: 8px; box-shadow: 0 4px 12px rgba(0, 0, 0, 0.1);max-width:650px\"> \n",
    "\n",
    "🎯 **ACTION POINTS:**\n",
    "\n",
    "1. **Add a Python code cell** below this one.\n",
    "2. Then, write code to calculate the following:\n",
    "    - Weekly average high temperature\n",
    "    - Weekly average low temperature\n",
    "    - Temperature range (warmest high - coldest low)\n",
    "\n",
    "</div>\n",
    "\n"
   ]
  },
  {
   "cell_type": "markdown",
   "metadata": {},
   "source": [
    "---\n",
    "\n",
    "## 🏡 Take-Home Exercise: Multi-City Analysis\n",
    "\n",
    "<div style=\"display:block;padding-left:1em;padding-top:0.5em;padding-bottom:0.5em;font-weight:400;font-size:0.85em;background-color: #FFFFFF; border-left: 8px solid #6BB8B7; border-radius: 8px; box-shadow: 0 4px 12px rgba(0, 0, 0, 0.1);margin-top:1em;max-width:650px;\">\n",
    "\n",
    "🚀 **PRO TIP:** Try to work on this activity before the **📝 W02 Formative Exercise** is released next week, on Monday 27 January. This will give you the right kind of coding practice you need right now. A solution to this task will be provided together with the W02 Formative\n",
    "\n",
    "</div>\n",
    "\n",
    "Building on our weather data collection, let's analyse temperature patterns across the week and multiple cities.\n"
   ]
  },
  {
   "cell_type": "markdown",
   "metadata": {},
   "source": [
    "Let's compare London's forecast with another city!\n",
    "\n",
    "<div style=\"display:block;padding-left:1em;padding-top:0.5em;padding-bottom:0.5em;font-weight:400;font-size:0.85em;background-color: #FFFFFF; border-left: 8px solid #47315E; border-radius: 8px; box-shadow: 0 4px 12px rgba(0, 0, 0, 0.1);max-width:650px\">\n",
    "\n",
    "🎯 **ACTION POINTS:**\n",
    "\n",
    "1. Add a Python code cell below and create `paris_forecast_max`, `paris_forecast_min`, and `paris_conditions` lists with the adequate data -- check your phone or computer for the forecast.\n",
    "\n",
    "2. Add a **second Python code cell** and reuse all the lists at your disposal to create a side-by-side weekly forecast comparison. \n",
    "\n",
    "    Your output should be formatted exactly like this but of course, with updated values and the full 7-days forecast:\n",
    "\n",
    "    ```output\n",
    "    WEEKLY FORECAST COMPARISON\n",
    "    =========================\n",
    "\n",
    "            LONDON                    PARIS           \n",
    "    Fri:    ☀️  12°C (5-12°C)   |    🌧️  14°C (8-14°C)    \n",
    "    Sat:    ⛅  14°C (6-14°C)   |    🌧️  15°C (7-15°C)    \n",
    "    Sun:    🌧️  11°C (4-11°C)   |    ⛅  13°C (6-13°C)    \n",
    "    Mon:    ☁️  13°C (5-13°C)   |    ⛅  12°C (5-12°C)    \n",
    "    ...\n",
    "\n",
    "    WEEKLY SUMMARY\n",
    "    =============\n",
    "                    LONDON    |    PARIS\n",
    "    Avg High:       12.5°C    |    14.1°C\n",
    "    Avg Low:        5.2°C     |    7.1°C\n",
    "    Temp Range:     9°C       |    11°C\n",
    "    Rainy Days:     2         |    3\n",
    "    ```\n",
    "\n",
    "    To simplify your life, you don't need to add the `*` for cold days in this part.\n",
    "\n",
    "</div>\n",
    "\n",
    "\n",
    "\n",
    "\n"
   ]
  }
 ],
 "metadata": {
  "kernelspec": {
   "display_name": "base",
   "language": "python",
   "name": "python3"
  },
  "language_info": {
   "codemirror_mode": {
    "name": "ipython",
    "version": 3
   },
   "file_extension": ".py",
   "mimetype": "text/x-python",
   "name": "python",
   "nbconvert_exporter": "python",
   "pygments_lexer": "ipython3",
   "version": "3.10.15"
  }
 },
 "nbformat": 4,
 "nbformat_minor": 2
}
