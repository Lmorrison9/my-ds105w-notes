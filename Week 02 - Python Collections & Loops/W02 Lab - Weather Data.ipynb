{
 "cells": [
  {
   "cell_type": "markdown",
   "metadata": {},
   "source": [
    "# 💻 Week 02 Lab – Working with Weather Data\n",
    "\n",
    "**LSE DS105W – Data for Data Science (2024/25)**\n",
    "\n",
    "<div style=\"font-family: system-ui; padding: 20px 30px 20px 20px; background-color: #FFFFFF; border-left: 8px solid #47315E; border-radius: 8px; box-shadow: 0 4px 12px rgba(0, 0, 0, 0.1);max-width:600px\">\n",
    "\n",
    "**Today's Lab Session**\n",
    "- 📅 Friday, 31 January 2025\n",
    "- ⏰ Check your class group time in [Course Info](https://moodle.lse.ac.uk/mod/page/view.php?id=1559985)\n",
    "- 📍 KSW.2.10\n",
    "\n",
    "🥅 **Learning Goals**\n",
    "\n",
    "1. Extract and format structured data from a Python dictionary. \n",
    "2. Use the `requests` package to collect data dynamically from OpenMeteo. \n",
    "3. Reuse your own code by writing functions. \n",
    "4. Extend your understanding of data organisation and Markdown tables.\n",
    "\n",
    "**Prerequisites**  \n",
    "\n",
    "You should be comfortable with the following concepts before starting this lab:\n",
    "\n",
    "- ✅ Navigating a Jupyter Notebook and creating new cells.\n",
    "- ✅ Using `print()` to curate and format textual output.\n",
    "- ✅ Basic Markdown formatting (tables, lists, etc.).\n",
    "- ✅ Working with lists and loops (even if it takes you a while to figure them out).\n",
    "- ✅ Accessing keys in a dictionary. \n",
    "\n",
    "</div>"
   ]
  },
  {
   "cell_type": "markdown",
   "metadata": {},
   "source": [
    "## Part I: Working with a Fixed Dictionary "
   ]
  },
  {
   "cell_type": "code",
   "execution_count": 47,
   "metadata": {},
   "outputs": [],
   "source": [
    "weather_data = {\n",
    "    \"hourly\": {\n",
    "        \"time\": [\"2025-01-28T00:00\", \"2025-01-28T01:00\", \"2025-01-28T02:00\"],\n",
    "        \"rain\": [0.0, 0.1, 0.2],\n",
    "        \"temperature_2m\": [8, 7, 8]\n",
    "    }\n",
    "}"
   ]
  },
  {
   "cell_type": "code",
   "execution_count": 48,
   "metadata": {},
   "outputs": [
    {
     "name": "stdout",
     "output_type": "stream",
     "text": [
      "List of times:\t\t ['2025-01-28T00:00', '2025-01-28T01:00', '2025-01-28T02:00']\n",
      "List of temperatures:\t [8, 7, 8]\n",
      "List of rain:\t\t [0.0, 0.1, 0.2]\n",
      "| Time | Temp (°C) | Rain (mm) |\n",
      "|------|-----------:|-----------:|\n",
      "| 2025-01-28T00:00 | 8 | 0.0 |\n",
      "| 2025-01-28T01:00 | 7 | 0.1 |\n",
      "| 2025-01-28T02:00 | 8 | 0.2 |\n"
     ]
    }
   ],
   "source": [
    "times = weather_data[\"hourly\"][\"time\"]\n",
    "temps = weather_data[\"hourly\"][\"temperature_2m\"]\n",
    "rain = weather_data[\"hourly\"][\"rain\"]\n",
    "\n",
    "print(f\"List of times:\\t\\t {times}\")\n",
    "print(f\"List of temperatures:\\t {temps}\")\n",
    "print(f\"List of rain:\\t\\t {rain}\")\n",
    "\n",
    "print(\"| Time | Temp (°C) | Rain (mm) |\")\n",
    "print(\"|------|-----------:|-----------:|\")\n",
    "\n",
    "for i in range(len(times)):\n",
    "    print(f\"| {times[i]} | {temps[i]} | {rain[i]} |\")"
   ]
  },
  {
   "cell_type": "markdown",
   "metadata": {},
   "source": [
    "| Time | Temp (°C) | Rain (mm) |\n",
    "|------|-----------:|-----------:|\n",
    "| 2025-01-28T00:00 | 8 | 0.0 |\n",
    "| 2025-01-28T01:00 | 7 | 0.1 |\n",
    "| 2025-01-28T02:00 | 8 | 0.2 |"
   ]
  },
  {
   "cell_type": "markdown",
   "metadata": {},
   "source": [
    "# Part II: Data Collection with requests"
   ]
  },
  {
   "cell_type": "code",
   "execution_count": 49,
   "metadata": {},
   "outputs": [
    {
     "name": "stdout",
     "output_type": "stream",
     "text": [
      "200\n"
     ]
    }
   ],
   "source": [
    "import requests\n",
    "\n",
    "url = \"https://api.open-meteo.com/v1/forecast?latitude=51.5085&longitude=-0.1257&hourly=temperature_2m&timezone=Europe%2FLondon\"\n",
    "response = requests.get(url)\n",
    "\n",
    "print(response.status_code)\n",
    "\n",
    "weather_data = response.json()\n",
    "weather_data\n",
    "\n",
    "def get_weather_variables():\n",
    "    times = weather_data[\"hourly\"][\"time\"]\n",
    "    temps = weather_data[\"hourly\"][\"temperature_2m\"]\n",
    "    return times, temps\n",
    "\n",
    "first_var, second_var = get_weather_variables()\n",
    "\n"
   ]
  },
  {
   "cell_type": "code",
   "execution_count": null,
   "metadata": {},
   "outputs": [
    {
     "name": "stdout",
     "output_type": "stream",
     "text": [
      "[0.0, 0.0, 0.0, 0.0, 0.0, 0.8, 1.2, 1.1, 0.1, 0.7, 0.1, 0.1, 0.0, 0.0, 0.0, 0.0, 0.0, 0.0, 0.0, 0.0, 0.0, 0.0, 0.0, 0.0, 0.0, 0.0, 0.0, 0.0, 0.0, 0.0, 0.0, 0.0, 0.0, 0.0, 0.0, 0.0, 0.0, 0.0, 0.0, 0.0, 0.0, 0.0, 0.0, 0.0, 0.0, 0.0, 0.0, 0.0, 0.0, 0.0, 0.0, 0.0, 0.0, 0.0, 0.0, 0.0, 0.0, 0.0, 0.0, 0.0, 0.0, 0.0, 0.0, 0.0, 0.0, 0.0, 0.0, 0.0, 0.0, 0.0, 0.0, 0.0, 0.0, 0.0, 0.0, 0.0, 0.0, 0.0, 0.0, 0.0, 0.0, 0.0, 0.0, 0.0, 0.0, 0.0, 0.0, 0.0, 0.0, 0.0, 0.0, 0.0, 0.0, 0.0, 0.0, 0.0, 0.0, 0.0, 0.0, 0.0, 0.0, 0.0, 0.0, 0.0, 0.0, 0.0, 0.0, 0.0, 0.0, 0.0, 0.0, 0.0, 0.0, 0.0, 0.0, 0.8, 0.8, 0.8, 0.4, 0.4, 0.4, 0.0, 0.0, 0.0, 0.0, 0.0, 0.0, 0.0, 0.0, 0.0, 0.0, 0.0, 0.0, 0.0, 0.0, 0.0, 0.0, 0.0, 0.0, 0.0, 0.0, 0.0, 0.0, 0.0, 0.0, 0.0, 0.0, 0.0, 0.0, 0.0, 0.0, 0.0, 0.0, 0.0, 0.0, 0.0, 0.0, 0.0, 0.0, 0.0, 0.0, 0.0, 0.0, 0.0, 0.0, 0.0, 0.0, 0.0]\n"
     ]
    }
   ],
   "source": [
    "import requests\n",
    "base_url = \"https://api.open-meteo.com/v1/forecast\"\n",
    "weather_data = {\n",
    "    \"hourly\": [\"temperature_2m\", \"rain\"]\n",
    "}\n",
    "\n",
    "response = requests.get(base_url, params=params)\n",
    "weather_data = response.json()\n",
    "\n",
    "rain = weather_data[\"hourly\"][\"rain\"]\n",
    "print(rain)  \n",
    "\n",
    "\n",
    "def get_weather_variables(weather_data):\n",
    "    times = weather_data[\"hourly\"][\"time\"]\n",
    "    temps = weather_data[\"hourly\"][\"temperature_2m\"]\n",
    "    rain = weather_data[\"hourly\"][\"rain\"]\n",
    "    return times, temps, rain\n",
    "\n"
   ]
  }
 ],
 "metadata": {
  "kernelspec": {
   "display_name": "base",
   "language": "python",
   "name": "python3"
  },
  "language_info": {
   "codemirror_mode": {
    "name": "ipython",
    "version": 3
   },
   "file_extension": ".py",
   "mimetype": "text/x-python",
   "name": "python",
   "nbconvert_exporter": "python",
   "pygments_lexer": "ipython3",
   "version": "3.12.7"
  }
 },
 "nbformat": 4,
 "nbformat_minor": 2
}
